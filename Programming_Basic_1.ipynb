{
 "cells": [
  {
   "cell_type": "code",
   "execution_count": 1,
   "metadata": {},
   "outputs": [
    {
     "name": "stdout",
     "output_type": "stream",
     "text": [
      "Hello Python\n"
     ]
    }
   ],
   "source": [
    "#Q-1\n",
    "\n",
    "def hello():\n",
    "    print(\"Hello Python\")\n",
    "    \n",
    "hello()"
   ]
  },
  {
   "cell_type": "code",
   "execution_count": 4,
   "metadata": {},
   "outputs": [
    {
     "data": {
      "text/plain": [
       "(5, 'divided by zero')"
      ]
     },
     "execution_count": 4,
     "metadata": {},
     "output_type": "execute_result"
    }
   ],
   "source": [
    "#Q -2\n",
    "\n",
    "def add_div(a,b):\n",
    "    c = a+b\n",
    "    try:\n",
    "        d = a/b\n",
    "    except:\n",
    "        d = \"divided by zero\"\n",
    "        \n",
    "    return c,d\n",
    "\n",
    "#add_div(5,6)\n",
    "add_div(5,0)"
   ]
  },
  {
   "cell_type": "code",
   "execution_count": 7,
   "metadata": {},
   "outputs": [
    {
     "data": {
      "text/plain": [
       "'triangle is not possible'"
      ]
     },
     "execution_count": 7,
     "metadata": {},
     "output_type": "execute_result"
    }
   ],
   "source": [
    "#Q -3\n",
    "\n",
    "def triangle(a,b,c):\n",
    "    if a>0 and b>0 and c>0:\n",
    "        if a+b>c and b+c>a and a+c>b:\n",
    "           from math import sqrt\n",
    "           s = (a+b+c)/2\n",
    "           area = sqrt(s*(s-a)*(s-b)*(s-c))\n",
    "           return area\n",
    "        else:\n",
    "            return \"triangle is not possible\"\n",
    "    else:\n",
    "        return \"triangle is not possible\"\n",
    "             \n",
    "triangle(3,4,5)      \n",
    "triangle(2,2,5)\n",
    "triangle(2,2,-5)"
   ]
  },
  {
   "cell_type": "code",
   "execution_count": 8,
   "metadata": {},
   "outputs": [
    {
     "data": {
      "text/plain": [
       "(4, 3)"
      ]
     },
     "execution_count": 8,
     "metadata": {},
     "output_type": "execute_result"
    }
   ],
   "source": [
    "#Q-4\n",
    "\n",
    "def swap(a,b):\n",
    "    a,b = b,a\n",
    "    return a,b\n",
    "\n",
    "swap(3,4)\n",
    "    "
   ]
  },
  {
   "cell_type": "code",
   "execution_count": 11,
   "metadata": {},
   "outputs": [
    {
     "data": {
      "text/plain": [
       "-91.18853855984787"
      ]
     },
     "execution_count": 11,
     "metadata": {},
     "output_type": "execute_result"
    }
   ],
   "source": [
    "#Q-5\n",
    "\n",
    "def random(a,b):\n",
    "    import random\n",
    "    c= random.uniform(a,b)\n",
    "    return c\n",
    "    \n",
    "    \n",
    "random(10,100)\n",
    "random(-200,100)"
   ]
  },
  {
   "cell_type": "code",
   "execution_count": null,
   "metadata": {},
   "outputs": [],
   "source": []
  }
 ],
 "metadata": {
  "kernelspec": {
   "display_name": "Python 3",
   "language": "python",
   "name": "python3"
  },
  "language_info": {
   "codemirror_mode": {
    "name": "ipython",
    "version": 3
   },
   "file_extension": ".py",
   "mimetype": "text/x-python",
   "name": "python",
   "nbconvert_exporter": "python",
   "pygments_lexer": "ipython3",
   "version": "3.7.6"
  }
 },
 "nbformat": 4,
 "nbformat_minor": 4
}
