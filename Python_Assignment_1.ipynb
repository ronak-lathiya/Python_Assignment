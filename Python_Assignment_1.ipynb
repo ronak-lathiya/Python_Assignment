{
 "cells": [
  {
   "cell_type": "code",
   "execution_count": null,
   "metadata": {},
   "outputs": [],
   "source": [
    "Que -1 \n",
    "\n",
    "*  Expression\n",
    "\"hello\"  Value\n",
    "-87.8    Value\n",
    "-  Expression\n",
    "/  Expression\n",
    "+  Expression"
   ]
  },
  {
   "cell_type": "markdown",
   "metadata": {},
   "source": [
    "Que -2\n",
    "\n",
    "Variable is used to store values. values can be string, int, float or anyother.\n",
    "<br>\n",
    "whereas string is a data type, which we write inside \"\"."
   ]
  },
  {
   "cell_type": "markdown",
   "metadata": {},
   "source": [
    "Que -3\n",
    "\n",
    "1) List:<br>\n",
    "List is used to store homogeneous as well as heterogeneous data.<br>\n",
    "It is mutable.<br>\n",
    "ex: [1,2,3]<br>\n",
    "\n",
    "2) String:<br>\n",
    "string is also used to store data.<br>\n",
    "it is immutable.<br>\n",
    "ex: \"Hello world\"<br>\n",
    "\n",
    "3) Dictionary:\n",
    "Dictionary stores data using key-value concept.<br>\n",
    "key is immutable whereas value can be mutable.<br>\n",
    "ex: {1:\"r\",2:\"p\"}<br>"
   ]
  },
  {
   "cell_type": "markdown",
   "metadata": {},
   "source": [
    "Que -4\n",
    "\n",
    "Expression is made of values,constant and mathematical operators.<br>\n",
    "ex: 3x + 4y<br>\n",
    "they are used for evaluation purpose.<br>"
   ]
  },
  {
   "cell_type": "markdown",
   "metadata": {},
   "source": [
    "Que -5\n",
    "\n",
    "statement spam =10: this will assign fixed value 10 to variable spam. whereas expression is dynamic, for example 3x + 4y,\n",
    "this will change with values of x and y."
   ]
  },
  {
   "cell_type": "markdown",
   "metadata": {},
   "source": [
    "Que -6\n",
    "\n",
    "bacon will still contain 22."
   ]
  },
  {
   "cell_type": "markdown",
   "metadata": {},
   "source": [
    "Que -7\n",
    "\n",
    "it will be same \"spamspamspam\"."
   ]
  },
  {
   "cell_type": "markdown",
   "metadata": {},
   "source": [
    "Que -8\n",
    "\n",
    "Because we can not start variable name with numbers."
   ]
  },
  {
   "cell_type": "markdown",
   "metadata": {},
   "source": [
    "Que -9\n",
    "\n",
    "int(),flaot(),str()"
   ]
  },
  {
   "cell_type": "markdown",
   "metadata": {},
   "source": [
    "Que -10\n",
    "\n",
    "Because we are cancatenating string with number. To fix this just convert 99 into string."
   ]
  }
 ],
 "metadata": {
  "kernelspec": {
   "display_name": "Python 3",
   "language": "python",
   "name": "python3"
  },
  "language_info": {
   "codemirror_mode": {
    "name": "ipython",
    "version": 3
   },
   "file_extension": ".py",
   "mimetype": "text/x-python",
   "name": "python",
   "nbconvert_exporter": "python",
   "pygments_lexer": "ipython3",
   "version": "3.7.6"
  }
 },
 "nbformat": 4,
 "nbformat_minor": 4
}
