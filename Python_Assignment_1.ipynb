{
 "cells": [
  {
   "cell_type": "code",
   "execution_count": null,
   "metadata": {},
   "outputs": [],
   "source": [
    "Que -1 \n",
    "\n",
    "*  Expression\n",
    "\"hello\"  Value\n",
    "-87.8    Value\n",
    "-  Expression\n",
    "/  Expression\n",
    "+  Expression"
   ]
  },
  {
   "cell_type": "markdown",
   "metadata": {},
   "source": [
    "Que -2\n",
    "\n",
    "Variable is used to store values. values can be string, int, float or anyother.\n",
    "whereas string is a data type, which we write inside \"\"."
   ]
  },
  {
   "cell_type": "markdown",
   "metadata": {},
   "source": [
    "Que -3\n",
    "\n",
    "1) List:\n",
    "List is used to store homogeneous as well as heterogeneous data.\n",
    "It is mutable.\n",
    "ex: [1,2,3]\n",
    "\n",
    "2) String:\n",
    "string is also used to store data.\n",
    "it is immutable.\n",
    "ex: \"Hello world\"\n",
    "\n",
    "3) Dictionary:\n",
    "Dictionary stores data using key-value concept.\n",
    "key is immutable whereas value can be mutable.\n",
    "ex: {r:1,p:2}"
   ]
  },
  {
   "cell_type": "markdown",
   "metadata": {},
   "source": [
    "Que -4\n",
    "\n",
    "Expression is made of values,constant and mathematical operators.\n",
    "ex: 3x + 4y\n",
    "they are used for evaluation purpose."
   ]
  },
  {
   "cell_type": "markdown",
   "metadata": {},
   "source": [
    "Que -5\n",
    "\n",
    "statement spam =10: this will assign fixed value 10 to variable spam. whereas expression is dynamic, for example 3x + 4y,\n",
    "this will change with values of x and y."
   ]
  },
  {
   "cell_type": "markdown",
   "metadata": {},
   "source": [
    "Que -6\n",
    "\n",
    "bacon will still contain 22."
   ]
  },
  {
   "cell_type": "markdown",
   "metadata": {},
   "source": [
    "Que -7\n",
    "\n",
    "it will be same \"spamspamspam\"."
   ]
  },
  {
   "cell_type": "markdown",
   "metadata": {},
   "source": [
    "Que -8\n",
    "\n",
    "Because we can not start variable name with numbers."
   ]
  },
  {
   "cell_type": "markdown",
   "metadata": {},
   "source": [
    "Que -9\n",
    "\n",
    "int(),flaot(),str()"
   ]
  },
  {
   "cell_type": "markdown",
   "metadata": {},
   "source": [
    "Que -10\n",
    "\n",
    "Because we are cancatenating string with number. To fix this just convert 99 into string."
   ]
  }
 ],
 "metadata": {
  "kernelspec": {
   "display_name": "Python 3",
   "language": "python",
   "name": "python3"
  },
  "language_info": {
   "codemirror_mode": {
    "name": "ipython",
    "version": 3
   },
   "file_extension": ".py",
   "mimetype": "text/x-python",
   "name": "python",
   "nbconvert_exporter": "python",
   "pygments_lexer": "ipython3",
   "version": "3.7.6"
  }
 },
 "nbformat": 4,
 "nbformat_minor": 4
}
